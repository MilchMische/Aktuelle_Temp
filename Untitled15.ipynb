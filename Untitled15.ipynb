{
  "nbformat": 4,
  "nbformat_minor": 0,
  "metadata": {
    "colab": {
      "provenance": []
    },
    "kernelspec": {
      "name": "python3",
      "display_name": "Python 3"
    },
    "language_info": {
      "name": "python"
    }
  },
  "cells": [
    {
      "cell_type": "code",
      "execution_count": 20,
      "metadata": {
        "colab": {
          "base_uri": "https://localhost:8080/",
          "height": 34
        },
        "id": "fL1oSZm-r5Pl",
        "outputId": "a50d06bf-14cb-4f41-d112-3e2e70233eb6"
      },
      "outputs": [
        {
          "output_type": "display_data",
          "data": {
            "text/plain": [
              "/content/exportierte_daten.xlsx"
            ],
            "text/html": [
              "<a href='exportierte_daten.xlsx' target='_blank'>exportierte_daten.xlsx</a><br>"
            ]
          },
          "metadata": {}
        },
        {
          "output_type": "display_data",
          "data": {
            "text/plain": [
              "<IPython.core.display.Javascript object>"
            ],
            "application/javascript": [
              "window.open(\"exportierte_daten.xlsx\")"
            ]
          },
          "metadata": {}
        }
      ],
      "source": [
        "import pandas as pd\n",
        "import requests\n",
        "import zipfile\n",
        "import os\n",
        "import xlsxwriter\n",
        "from IPython.display import display, FileLink, Javascript\n",
        "\n",
        "url = 'https://opendata.dwd.de/climate_environment/CDC/observations_germany/climate/hourly/air_temperature/recent/stundenwerte_TU_02014_akt.zip'\n",
        "zip_path = 'stundenwerte_TU_02014_akt.zip'\n",
        "\n",
        "response = requests.get(url)\n",
        "with open(zip_path, 'wb') as file:\n",
        "    file.write(response.content)\n",
        "\n",
        "keyword = 'produkt_tu_stunde'\n",
        "\n",
        "with zipfile.ZipFile(zip_path, 'r') as zip_ref:\n",
        "    zip_contents = zip_ref.namelist()\n",
        "    target_file = next((file_name for file_name in zip_contents if keyword in file_name), None)\n",
        "    if target_file:\n",
        "        zip_ref.extract(target_file)\n",
        "\n",
        "if target_file:\n",
        "    df = pd.read_csv(target_file, sep=';', engine='python')\n",
        "    df = df[[\"MESS_DATUM\", \"TT_TU\"]]\n",
        "    df.rename(columns={\n",
        "        \"MESS_DATUM\": \"Zeitstempel\",\n",
        "        \"TT_TU\": \"Wert\"\n",
        "    }, inplace=True)\n",
        "\n",
        "    df['Zeitstempel'] = pd.to_datetime(df['Zeitstempel'], format='%Y%m%d%H')\n",
        "    df['Datum'] = df['Zeitstempel'].dt.strftime('%d/%m/%Y')\n",
        "    df['Uhrzeit'] = df['Zeitstempel'].dt.strftime('%H:%M:%S')\n",
        "    df['Jahr'] = df['Zeitstempel'].dt.year\n",
        "    df['Monat'] = df['Zeitstempel'].dt.month\n",
        "\n",
        "    df = df[['Datum', 'Uhrzeit', 'Wert', 'Jahr', 'Monat']]\n",
        "\n",
        "    excel_path = 'exportierte_daten.xlsx'\n",
        "\n",
        "    with pd.ExcelWriter(excel_path, engine='xlsxwriter') as excel_writer:\n",
        "        workbook = excel_writer.book\n",
        "\n",
        "        format_over_27 = workbook.add_format({'bg_color': '#FFC7CE', 'font_color': '#9C0006'})\n",
        "        format_over_24 = workbook.add_format({'bg_color': '#FFEB9C', 'font_color': '#9C6500'})\n",
        "        bold = workbook.add_format({'bold': True})\n",
        "        date_format = workbook.add_format({'num_format': 'dd/mm/yyyy', 'align': 'center', 'valign': 'vcenter', 'border': 1})\n",
        "\n",
        "        pivot_table_hours = df[df['Wert'] >= 27].pivot_table(\n",
        "            index='Jahr',\n",
        "            columns='Monat',\n",
        "            values='Wert',\n",
        "            aggfunc='count',\n",
        "            fill_value=0\n",
        "        )\n",
        "\n",
        "        all_hours = range(1, 13)\n",
        "        for month in all_hours:\n",
        "            if month not in pivot_table_hours.columns:\n",
        "                pivot_table_hours[month] = 0\n",
        "        pivot_table_hours = pivot_table_hours.reindex(columns=all_hours)\n",
        "\n",
        "        pivot_table_hours.to_excel(excel_writer, sheet_name='Überschreitungen in h (Jahre)')\n",
        "        worksheet = excel_writer.sheets['Überschreitungen(Stunden)']\n",
        "        worksheet.conditional_format('C2:M45', {'type': '3_color_scale',\n",
        "                                                'min_color': \"#00FF00\",\n",
        "                                                'mid_color': \"#FFFF00\",\n",
        "                                                'max_color': \"#FF0000\"})\n",
        "\n",
        "        pivot_table_months = df[df['Wert'] >= 27].groupby(['Jahr', 'Monat', df['Datum'].str[:2].astype(int)]).size().unstack(level=1).fillna(0)\n",
        "        pivot_table_months = pivot_table_months.reindex(columns=range(1, 13), fill_value=0)\n",
        "        pivot_table_months.columns = ['Jan', 'Feb', 'Mrz', 'Apr', 'Mai', 'Jun', 'Jul', 'Aug', 'Sep', 'Okt', 'Nov', 'Dez']\n",
        "\n",
        "        pivot_table_months.to_excel(excel_writer, sheet_name='Überschreitungen_in_h_(Tage)')\n",
        "        worksheet = excel_writer.sheets['Überschreitungen (Tage)']\n",
        "\n",
        "        num_rows = pivot_table_months.shape[0]\n",
        "        num_cols = pivot_table_months.shape[1]\n",
        "\n",
        "        range_str = f'C2:{chr(66 + num_cols)}{num_rows + 1}'\n",
        "\n",
        "        worksheet.conditional_format(range_str, {'type': '3_color_scale',\n",
        "                                                 'min_color': \"#00FF00\",\n",
        "                                                 'mid_color': \"#FFFF00\",\n",
        "                                                 'max_color': \"#FF0000\"})\n",
        "\n",
        "        for (jahr, monat), group in df.groupby(['Jahr', 'Monat']):\n",
        "            sheet_name = f'{jahr}-{monat:02d}'\n",
        "            group = group.drop(columns=['Jahr', 'Monat'])\n",
        "            group.to_excel(excel_writer, sheet_name=sheet_name, index=False)\n",
        "            worksheet = excel_writer.sheets[sheet_name]\n",
        "\n",
        "            worksheet.conditional_format('C2:C1000', {'type': 'cell',\n",
        "                                                      'criteria': '>=',\n",
        "                                                      'value': 27,\n",
        "                                                      'format': format_over_27})\n",
        "            worksheet.conditional_format('C2:C1000', {'type': 'cell',\n",
        "                                                      'criteria': '>=',\n",
        "                                                      'value': 24,\n",
        "                                                      'format': format_over_24})\n",
        "\n",
        "            count_over_27 = group[group['Wert'] >= 27]['Wert'].count()\n",
        "            count_over_24 = group[group['Wert'] >= 24]['Wert'].count()\n",
        "            worksheet.write('E1', 'Überschreitungen >= 27°C:', bold)\n",
        "            worksheet.write('F1', count_over_27)\n",
        "            worksheet.write('E2', 'Überschreitungen >= 24°C:', bold)\n",
        "            worksheet.write('F2', count_over_24)\n",
        "\n",
        "    display(FileLink(excel_path))\n",
        "\n",
        "    display(Javascript('window.open(\"{0}\")'.format(excel_path)))"
      ]
    }
  ]
}
