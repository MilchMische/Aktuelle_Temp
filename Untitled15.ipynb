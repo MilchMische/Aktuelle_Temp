{
  "script": {
    "description": "Python script to download, process, and format weather data in Excel.",
    "steps": [
      {
        "step": "Download ZIP file",
        "code": "url = 'https://opendata.dwd.de/climate_environment/CDC/observations_germany/climate/hourly/air_temperature/recent/stundenwerte_TU_02014_akt.zip'\nzip_path = 'stundenwerte_TU_02014_akt.zip'\nresponse = requests.get(url)\nwith open(zip_path, 'wb') as file:\n    file.write(response.content)"
      },
      {
        "step": "Extract CSV from ZIP",
        "code": "with zipfile.ZipFile(zip_path, 'r') as zip_ref:\n    zip_contents = zip_ref.namelist()\n    target_file = next((file_name for file_name in zip_contents if 'produkt_tu_stunde' in file_name), None)\n    if target_file:\n        zip_ref.extract(target_file)"
      },
      {
        "step": "Load and process CSV",
        "code": "if target_file:\n    df = pd.read_csv(target_file, sep=';', engine='python')\n    df = df[['MESS_DATUM', 'TT_TU']]\n    df.rename(columns={'MESS_DATUM': 'Zeitstempel', 'TT_TU': 'Wert'}, inplace=True)\n    df['Zeitstempel'] = pd.to_datetime(df['Zeitstempel'], format='%Y%m%d%H')\n    df['Datum'] = df['Zeitstempel'].dt.strftime('%d/%m/%Y')\n    df['Uhrzeit'] = df['Zeitstempel'].dt.strftime('%H:%M:%S')\n    df['Jahr'] = df['Zeitstempel'].dt.year\n    df['Monat'] = df['Zeitstempel'].dt.month\n    df = df[['Datum', 'Uhrzeit', 'Wert', 'Jahr', 'Monat']]"
      },
      {
        "step": "Create Excel file",
        "code": "with pd.ExcelWriter('exportierte_daten.xlsx', engine='xlsxwriter') as excel_writer:\n    workbook = excel_writer.book\n    format_over_27 = workbook.add_format({'bg_color': '#FFCCCB', 'font_color': '#FF0000'})\n    format_over_24 = workbook.add_format({'bg_color': '#FFDAB9', 'font_color': '#FF8C00'})\n    bold = workbook.add_format({'bold': True})"
      },
      {
        "step": "Pivot Table for Hours (Jahre)",
        "code": "pivot_table_hours = df[df['Wert'] >= 27].pivot_table(\n    index='Jahr',\n    columns='Monat',\n    values='Wert',\n    aggfunc='count',\n    fill_value=0\n)\nmonth_names = {1: 'Januar', 2: 'Februar', 3: 'März', 4: 'April', 5: 'Mai', 6: 'Juni',\n               7: 'Juli', 8: 'August', 9: 'September', 10: 'Oktober', 11: 'November', 12: 'Dezember'}\npivot_table_hours.columns = [month_names[col] for col in pivot_table_hours.columns]\nsheet_name = 'Überschreitungen (Jahre)'\npivot_table_hours.to_excel(excel_writer, sheet_name=sheet_name)\nworksheet = excel_writer.sheets[sheet_name]\nworksheet.conditional_format('C2:N45', {'type': '3_color_scale', 'min_color': '#00FF00', 'mid_color': '#FFFF00', 'max_color': '#FF0000'})"
      },
      {
        "step": "Pivot Table for Days (Jahre - Tage)",
        "code": "days_over_27 = df[df['Wert'] >= 27].groupby(['Jahr', 'Datum'])['Wert'].count().reset_index()\ndays_over_27 = days_over_27.groupby('Jahr')['Datum'].count().reset_index()\ndays_over_27.columns = ['Jahr', 'Anzahl Tage mit >= 27°C']\nsheet_name = 'Überschreitungen (Jahre - Tage)'\ndays_over_27.to_excel(excel_writer, sheet_name=sheet_name, index=False)\nworksheet = excel_writer.sheets[sheet_name]\nworksheet.write('A1', 'Jahr', bold)\nworksheet.write('B1', 'Anzahl Tage mit >= 27°C', bold)\nworksheet.conditional_format('B2:B1000', {'type': '3_color_scale', 'min_color': '#00FF00', 'mid_color': '#FFFF00', 'max_color': '#FF0000'})"
      },
      {
        "step": "Create Monthly Sheets",
        "code": "for (jahr, monat), group in df.groupby(['Jahr', 'Monat']):\n    sheet_name = f'{jahr}-{monat:02d}'\n    group = group.drop(columns=['Jahr', 'Monat'])\n    group.to_excel(excel_writer, sheet_name=sheet_name, index=False)\n    worksheet = excel_writer.sheets[sheet_name]\n    cell_format_over_27 = workbook.add_format({'bg_color': '#FFCCCB', 'font_color': '#FF0000'})\n    worksheet.conditional_format('C2:C1000', {'type': 'cell', 'criteria': '>=', 'value': 27, 'format': cell_format_over_27})\n    worksheet.conditional_format('C2:C1000', {'type': 'cell', 'criteria': '>=', 'value': 24, 'format': format_over_24})\n    count_over_27 = group[group['Wert'] >= 27]['Wert'].count()\n    count_over_24 = group[group['Wert'] >= 24]['Wert'].count()\n    worksheet.write('E1', 'Überschreitungen >= 27°C:', bold)\n    worksheet.write('F1', count_over_27)\n    worksheet.write('E2', 'Überschreitungen >= 24°C:', bold)\n    worksheet.write('F2', count_over_24)"
      },
      {
        "step": "Copy and Save Excel File",
        "code": "wb = load_workbook('exportierte_daten.xlsx')\nnew_wb = Workbook()\nnew_wb.remove(new_wb.active)\nif 'Überschreitungen (Jahre)' in wb.sheetnames:\n    source_ws = wb['Überschreitungen (Jahre)']\n    target_ws = new_wb.create_sheet(title='Überschreitungen (Jahre)')\n    for row in source_ws.iter_rows(values_only=True):\n        target_ws.append(row)\nif 'Überschreitungen (Jahre - Tage)' in wb.sheetnames:\n    source_ws = wb['Überschreitungen (Jahre - Tage)']\n    target_ws = new_wb.create_sheet(title='Überschreitungen (Jahre - Tage)')\n    for row in source_ws.iter_rows(values_only=True):\n        target_ws.append(row)\nfor sheet in wb.sheetnames:\n    if sheet not in ['Überschreitungen (Jahre)', 'Überschreitungen (Jahre - Tage)']:\n        source_ws = wb[sheet]\n        target_ws = new_wb.create_sheet(title=sheet)\n        for row in source_ws.iter_rows(values_only=True):\n            target_ws.append(row)\n        for row in target_ws.iter_rows(min_row=2, min_col=3, max_col=3, max_row=target_ws.max_row):\n            for cell in row:\n                if cell.value and cell.value >= 27:\n                    cell.fill = PatternFill(start_color='FFCCCB', end_color='FFCCCB', fill_type='solid')\n                elif cell.value and cell.value >= 24:\n                    cell.fill = PatternFill(start_color='FFDAB9', end_color='FFDAB9', fill_type='solid')\nnew_wb.save('exportierte_daten.xlsx')\nfiles.download('exportierte_daten.xlsx')"
      }
    ]
  }
}
